{
  "nbformat": 4,
  "nbformat_minor": 0,
  "metadata": {
    "colab": {
      "provenance": []
    },
    "kernelspec": {
      "name": "python3",
      "display_name": "Python 3"
    },
    "language_info": {
      "name": "python"
    }
  },
  "cells": [
    {
      "cell_type": "markdown",
      "source": [
        "# **Course 2**"
      ],
      "metadata": {
        "id": "Soo7whteZDQv"
      }
    },
    {
      "cell_type": "markdown",
      "source": [
        "# **1**\n",
        "\n",
        "Complete the body of the following function according to its docstring.\n",
        "\n",
        "HINT: Python has a built-in function `round`."
      ],
      "metadata": {
        "id": "bQMXAV0pZPT3"
      }
    },
    {
      "cell_type": "code",
      "execution_count": null,
      "metadata": {
        "colab": {
          "base_uri": "https://localhost:8080/"
        },
        "id": "sNGvvDnnY02i",
        "outputId": "1e1257a4-fed2-429c-8b9e-fd7e62369fc1"
      },
      "outputs": [
        {
          "output_type": "stream",
          "name": "stdout",
          "text": [
            "3.14\n"
          ]
        }
      ],
      "source": [
        "def round_to_two_places(num):\n",
        "    return round(num, 2)\n",
        "\n",
        "print(round_to_two_places(3.14159))"
      ]
    },
    {
      "cell_type": "markdown",
      "source": [
        "# **2**\n",
        "\n",
        "The help for round says that ndigits (the second argument) may be negative. What do you think will happen when it is? Try some examples in the following cell."
      ],
      "metadata": {
        "id": "T17GXeEnaH4s"
      }
    },
    {
      "cell_type": "code",
      "source": [
        "print(round(338424, -2) )\n",
        "print(round(2166086, -3) )"
      ],
      "metadata": {
        "colab": {
          "base_uri": "https://localhost:8080/"
        },
        "id": "L7eV1J09aJ3u",
        "outputId": "01846dc9-70a4-417e-a636-617da34a45ec"
      },
      "execution_count": null,
      "outputs": [
        {
          "output_type": "stream",
          "name": "stdout",
          "text": [
            "338400\n",
            "2166000\n"
          ]
        }
      ]
    },
    {
      "cell_type": "markdown",
      "source": [
        "# **3**\n",
        "\n",
        "In the previous exercise, the candy-sharing friends Alice, Bob and Carol tried to split candies evenly. For the sake of their friendship, any candies left over would be smashed. For example, if they collectively bring home 91 candies, they'll take 30 each and smash 1.\n",
        "\n",
        "Below is a simple function that will calculate the number of candies to smash for any number of total candies.\n",
        "\n",
        "Modify it so that it optionally takes a second argument representing the number of friends the candies are being split between. If no second argument is provided, it should assume 3 friends, as before.\n",
        "\n",
        "Update the docstring to reflect this new behaviour."
      ],
      "metadata": {
        "id": "zd2KoHRCa2X5"
      }
    },
    {
      "cell_type": "code",
      "source": [
        "def to_smash(total_candies, n_friends=3):\n",
        "    return total_candies % n_friends\n",
        "    \"\"\"Return the number of leftover candies that must be smashed after distributing\n",
        "    the given number of candies evenly between 3 friends.\n",
        "\n",
        "    >>> to_smash(91)\n",
        "    1\n",
        "    \"\"\"\n",
        "    return total_candies % 3\n",
        "\n",
        "# Check your answer\n",
        "print(to_smash(95))"
      ],
      "metadata": {
        "id": "ESI8jvoNa8Ej"
      },
      "execution_count": null,
      "outputs": []
    },
    {
      "cell_type": "markdown",
      "source": [
        "# **4**\n",
        "\n",
        "It may not be fun, but reading and understanding error messages will be an important part of your Python career.\n",
        "\n",
        "Each code cell below contains some commented buggy code. For each cell...\n",
        "\n",
        "Read the code and predict what you think will happen when it's run.\n",
        "Then uncomment the code and run it to see what happens. (Tip: In the kernel editor, you can highlight several lines and press ctrl+/ to toggle commenting.)\n",
        "Fix the code (so that it accomplishes its intended purpose without throwing an exception)"
      ],
      "metadata": {
        "id": "VRjf30XNbz0l"
      }
    },
    {
      "cell_type": "code",
      "source": [
        "def round_to_two_places(num)\n",
        "return round (num, 2)\n",
        "\n",
        "print(round(9.9999))"
      ],
      "metadata": {
        "id": "S2P0eyh-b54s"
      },
      "execution_count": null,
      "outputs": []
    },
    {
      "cell_type": "code",
      "source": [
        "x = -10\n",
        "y = 5\n",
        "# # Which of the two variables above has the smallest absolute value?\n",
        "smallest_abs = min(abs(x, y))\n",
        "print (smallest_abs)"
      ],
      "metadata": {
        "id": "7Wt9QD2BdTsJ"
      },
      "execution_count": null,
      "outputs": []
    },
    {
      "cell_type": "code",
      "source": [
        "def f(x):\n",
        "     y = abs(x)\n",
        "return y\n",
        "\n",
        "print(f(5))"
      ],
      "metadata": {
        "id": "BL_Dh1I3difG"
      },
      "execution_count": null,
      "outputs": []
    }
  ]
}