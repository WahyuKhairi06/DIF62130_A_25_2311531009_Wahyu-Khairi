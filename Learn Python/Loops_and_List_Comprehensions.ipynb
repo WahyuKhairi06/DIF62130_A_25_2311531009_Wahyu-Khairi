{
  "nbformat": 4,
  "nbformat_minor": 0,
  "metadata": {
    "colab": {
      "provenance": [],
      "toc_visible": true
    },
    "kernelspec": {
      "name": "python3",
      "display_name": "Python 3"
    },
    "language_info": {
      "name": "python"
    }
  },
  "cells": [
    {
      "cell_type": "markdown",
      "source": [
        "# **Course 5**"
      ],
      "metadata": {
        "id": "Vyp3iVM_Oqjc"
      }
    },
    {
      "cell_type": "markdown",
      "source": [
        "# **1**\n",
        "\n",
        "Have you ever felt debugging involved a bit of luck? The following program has a bug. Try to identify the bug and fix it.."
      ],
      "metadata": {
        "id": "kn9gb3gYOq7a"
      }
    },
    {
      "cell_type": "code",
      "source": [
        "def has_lucky_number(nums):\n",
        "    \"\"\"Return whether the given list of numbers is lucky. A lucky list contains\n",
        "    at least one number divisible by 7.\n",
        "    \"\"\"\n",
        "    for num in nums:\n",
        "        if num % 7 == 0:\n",
        "            return True\n",
        "        else:\n",
        "            return False"
      ],
      "metadata": {
        "id": "c2ljk3WMO77J"
      },
      "execution_count": null,
      "outputs": []
    },
    {
      "cell_type": "code",
      "source": [
        "def has_lucky_number(nums):\n",
        "    for num in nums:\n",
        "        if num % 7 == 0:\n",
        "            return True\n",
        "    # We've exhausted the list without finding a lucky number\n",
        "    return False\n",
        "    \"\"\"Return whether the given list of numbers is lucky. A lucky list contains\n",
        "    at least one number divisible by 7.\n",
        "    \"\"\"\n",
        "    for num in nums:\n",
        "        if num % 7 == 0:\n",
        "            return True\n",
        "        else:\n",
        "            return False\n",
        "\n",
        "# Check your answer\n",
        "print(has_lucky_number([1,2,3,4,5,6,7]))\n",
        "print(has_lucky_number([2,3,1,4,5,6,7]))"
      ],
      "metadata": {
        "colab": {
          "base_uri": "https://localhost:8080/"
        },
        "id": "KaBl7kleSvXu",
        "outputId": "5c519afd-ad2c-41e7-e28c-e6222e614db9"
      },
      "execution_count": null,
      "outputs": [
        {
          "output_type": "stream",
          "name": "stdout",
          "text": [
            "True\n",
            "True\n"
          ]
        }
      ]
    },
    {
      "cell_type": "markdown",
      "source": [
        "# **2**\n",
        "\n",
        "Look at the Python expression below. What do you think we'll get when we run it? When you've made your prediction, uncomment the code and run the cell to see if you were right."
      ],
      "metadata": {
        "id": "Mg4hycisOrLt"
      }
    },
    {
      "cell_type": "code",
      "source": [
        "def elementwise_greater_than(L, thresh):\n",
        "    res = []\n",
        "    for ele in L:\n",
        "        res.append(ele > thresh)\n",
        "    return res\n",
        "    \"\"\"Return a list with the same length as L, where the value at index i is\n",
        "    True if L[i] is greater than thresh, and False otherwise.\n",
        "\n",
        "    >>> elementwise_greater_than([1, 2, 3, 4], 2)\n",
        "    [False, False, True, True]\n",
        "    \"\"\"\n",
        "    pass\n",
        "\n",
        "# Check your answer\n",
        "print(elementwise_greater_than([1,2,3,4],2))\n",
        "print(elementwise_greater_than([1,2,3,4],1))"
      ],
      "metadata": {
        "colab": {
          "base_uri": "https://localhost:8080/"
        },
        "id": "1pjLBeHmPU6Q",
        "outputId": "729547c1-c526-44ef-c1a9-03a08c5b6c77"
      },
      "execution_count": null,
      "outputs": [
        {
          "output_type": "stream",
          "name": "stdout",
          "text": [
            "[False, False, True, True]\n",
            "[False, True, True, True]\n"
          ]
        }
      ]
    },
    {
      "cell_type": "markdown",
      "source": [
        "#**3**\n",
        "\n",
        "Complete the body of the function below according to its docstring."
      ],
      "metadata": {
        "id": "Z_SuHjg0OrY8"
      }
    },
    {
      "cell_type": "code",
      "source": [
        "def menu_is_boring(meals):\n",
        "    # Iterate over all indices of the list, except the last one\n",
        "    for i in range(len(meals)-1):\n",
        "        if meals[i] == meals[i+1]:\n",
        "            return True\n",
        "    return False\n",
        "\n",
        "print(menu_is_boring(['spam', 'spam', 'eggs']))\n",
        "print(menu_is_boring(['spam', 'eggs', 'spam']))\n"
      ],
      "metadata": {
        "colab": {
          "base_uri": "https://localhost:8080/"
        },
        "id": "FJVeG9TYPyE1",
        "outputId": "ccd5a875-7c67-4140-edf4-b620a0b15d1d"
      },
      "execution_count": null,
      "outputs": [
        {
          "output_type": "stream",
          "name": "stdout",
          "text": [
            "True\n",
            "False\n"
          ]
        }
      ]
    },
    {
      "cell_type": "markdown",
      "source": [
        "# **4**\n",
        "\n",
        "Next to the Blackjack table, the Python Challenge Casino has a slot machine. You can get a result from the slot machine by calling play_slot_machine(). The number it returns is your winnings in dollars. Usually it returns 0. But sometimes you'll get lucky and get a big payday. Try running it below:"
      ],
      "metadata": {
        "id": "FWt91LU_W6PX"
      }
    },
    {
      "cell_type": "code",
      "source": [
        "import random\n",
        "\n",
        "def play_slot_machine():\n",
        "    \"\"\"Mensimulasikan mesin slot. Pemain membayar 1 kredit setiap putaran.\n",
        "       Jika menang, mereka mendapat 10 kredit. 95% kalah, 5% menang.\"\"\"\n",
        "    return 10 if random.random() < 0.05 else 0\n",
        "\n",
        "def estimate_average_slot_payout(n_runs):\n",
        "    \"\"\"Menghitung rata-rata payout per putaran slot machine\"\"\"\n",
        "    payouts = [play_slot_machine() - 1 for _ in range(n_runs)]  # -1 karena pemain membayar 1 kredit\n",
        "    avg_payout = sum(payouts) / n_runs\n",
        "    return avg_payout\n",
        "\n",
        "# Uji dengan berbagai jumlah percobaan\n",
        "print(estimate_average_slot_payout(1000000))\n",
        "print(estimate_average_slot_payout(10000000))"
      ],
      "metadata": {
        "colab": {
          "base_uri": "https://localhost:8080/"
        },
        "id": "2pApE8dBXKLq",
        "outputId": "a7785fec-405f-44f6-9f11-82a564d6a13f"
      },
      "execution_count": 43,
      "outputs": [
        {
          "output_type": "stream",
          "name": "stdout",
          "text": [
            "-0.49851\n",
            "-0.500916\n"
          ]
        }
      ]
    }
  ]
}