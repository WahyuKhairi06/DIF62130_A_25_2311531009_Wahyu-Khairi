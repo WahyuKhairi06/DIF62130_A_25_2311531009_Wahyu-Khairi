{
  "nbformat": 4,
  "nbformat_minor": 0,
  "metadata": {
    "colab": {
      "provenance": [],
      "authorship_tag": "ABX9TyOFPNca6BxIVEw22KST/r01",
      "include_colab_link": true
    },
    "kernelspec": {
      "name": "python3",
      "display_name": "Python 3"
    },
    "language_info": {
      "name": "python"
    }
  },
  "cells": [
    {
      "cell_type": "markdown",
      "metadata": {
        "id": "view-in-github",
        "colab_type": "text"
      },
      "source": [
        "<a href=\"https://colab.research.google.com/github/WahyuKhairi06/DIF62130_A_25_2311531009_Wahyu-Khairi/blob/main/Praktikum%203/BernoulliNB.ipynb\" target=\"_parent\"><img src=\"https://colab.research.google.com/assets/colab-badge.svg\" alt=\"Open In Colab\"/></a>"
      ]
    },
    {
      "cell_type": "markdown",
      "source": [
        "#**Tahap 1: Memuat dan Memeriksa Dataset**"
      ],
      "metadata": {
        "id": "1up3UhtlYkD2"
      }
    },
    {
      "cell_type": "code",
      "source": [
        "import pandas as pd\n",
        "import numpy as np\n",
        "from sklearn.model_selection import train_test_split\n",
        "from sklearn.naive_bayes import BernoulliNB\n",
        "from sklearn.impute import SimpleImputer\n",
        "from sklearn.metrics import accuracy_score, classification_report\n",
        "\n",
        "\n",
        "# Load dataset\n",
        "file_path = \"/content/alzheimers_disease_data.csv\"\n",
        "df = pd.read_csv(file_path)\n",
        "\n",
        "\n"
      ],
      "metadata": {
        "id": "X140DijXSEHe"
      },
      "execution_count": 96,
      "outputs": []
    },
    {
      "cell_type": "markdown",
      "source": [
        "# **Load dataset**"
      ],
      "metadata": {
        "id": "a63zNoy0YsZL"
      }
    },
    {
      "cell_type": "code",
      "source": [
        "# Menampilkan informasi dataset\n",
        "print(df.head())       # Melihat 5 baris pertama\n"
      ],
      "metadata": {
        "colab": {
          "base_uri": "https://localhost:8080/"
        },
        "id": "RTy4zempYbai",
        "outputId": "3ee6075f-4f13-4abd-ea2d-c0362388ab8c"
      },
      "execution_count": 97,
      "outputs": [
        {
          "output_type": "stream",
          "name": "stdout",
          "text": [
            "   PatientID  Age  Gender  Ethnicity  EducationLevel        BMI  Smoking  \\\n",
            "0       4751   73       0          0               2  22.927749        0   \n",
            "1       4752   89       0          0               0  26.827681        0   \n",
            "2       4753   73       0          3               1  17.795882        0   \n",
            "3       4754   74       1          0               1  33.800817        1   \n",
            "4       4755   89       0          0               0  20.716974        0   \n",
            "\n",
            "   AlcoholConsumption  PhysicalActivity  DietQuality  ...  MemoryComplaints  \\\n",
            "0           13.297218          6.327112     1.347214  ...                 0   \n",
            "1            4.542524          7.619885     0.518767  ...                 0   \n",
            "2           19.555085          7.844988     1.826335  ...                 0   \n",
            "3           12.209266          8.428001     7.435604  ...                 0   \n",
            "4           18.454356          6.310461     0.795498  ...                 0   \n",
            "\n",
            "   BehavioralProblems       ADL  Confusion  Disorientation  \\\n",
            "0                   0  1.725883          0               0   \n",
            "1                   0  2.592424          0               0   \n",
            "2                   0  7.119548          0               1   \n",
            "3                   1  6.481226          0               0   \n",
            "4                   0  0.014691          0               0   \n",
            "\n",
            "   PersonalityChanges  DifficultyCompletingTasks  Forgetfulness  Diagnosis  \\\n",
            "0                   0                          1              0          0   \n",
            "1                   0                          0              1          0   \n",
            "2                   0                          1              0          0   \n",
            "3                   0                          0              0          0   \n",
            "4                   1                          1              0          0   \n",
            "\n",
            "   DoctorInCharge  \n",
            "0       XXXConfid  \n",
            "1       XXXConfid  \n",
            "2       XXXConfid  \n",
            "3       XXXConfid  \n",
            "4       XXXConfid  \n",
            "\n",
            "[5 rows x 35 columns]\n"
          ]
        }
      ]
    },
    {
      "cell_type": "code",
      "source": [
        "print(df.info())       # Melihat tipe data dan missing values\n"
      ],
      "metadata": {
        "colab": {
          "base_uri": "https://localhost:8080/"
        },
        "id": "cJNu5_FEY2Ai",
        "outputId": "5b90be2a-0692-433e-fc71-98905bec5173"
      },
      "execution_count": 98,
      "outputs": [
        {
          "output_type": "stream",
          "name": "stdout",
          "text": [
            "<class 'pandas.core.frame.DataFrame'>\n",
            "RangeIndex: 2149 entries, 0 to 2148\n",
            "Data columns (total 35 columns):\n",
            " #   Column                     Non-Null Count  Dtype  \n",
            "---  ------                     --------------  -----  \n",
            " 0   PatientID                  2149 non-null   int64  \n",
            " 1   Age                        2149 non-null   int64  \n",
            " 2   Gender                     2149 non-null   int64  \n",
            " 3   Ethnicity                  2149 non-null   int64  \n",
            " 4   EducationLevel             2149 non-null   int64  \n",
            " 5   BMI                        2149 non-null   float64\n",
            " 6   Smoking                    2149 non-null   int64  \n",
            " 7   AlcoholConsumption         2149 non-null   float64\n",
            " 8   PhysicalActivity           2149 non-null   float64\n",
            " 9   DietQuality                2149 non-null   float64\n",
            " 10  SleepQuality               2149 non-null   float64\n",
            " 11  FamilyHistoryAlzheimers    2149 non-null   int64  \n",
            " 12  CardiovascularDisease      2149 non-null   int64  \n",
            " 13  Diabetes                   2149 non-null   int64  \n",
            " 14  Depression                 2149 non-null   int64  \n",
            " 15  HeadInjury                 2149 non-null   int64  \n",
            " 16  Hypertension               2149 non-null   int64  \n",
            " 17  SystolicBP                 2149 non-null   int64  \n",
            " 18  DiastolicBP                2149 non-null   int64  \n",
            " 19  CholesterolTotal           2149 non-null   float64\n",
            " 20  CholesterolLDL             2149 non-null   float64\n",
            " 21  CholesterolHDL             2149 non-null   float64\n",
            " 22  CholesterolTriglycerides   2149 non-null   float64\n",
            " 23  MMSE                       2149 non-null   float64\n",
            " 24  FunctionalAssessment       2149 non-null   float64\n",
            " 25  MemoryComplaints           2149 non-null   int64  \n",
            " 26  BehavioralProblems         2149 non-null   int64  \n",
            " 27  ADL                        2149 non-null   float64\n",
            " 28  Confusion                  2149 non-null   int64  \n",
            " 29  Disorientation             2149 non-null   int64  \n",
            " 30  PersonalityChanges         2149 non-null   int64  \n",
            " 31  DifficultyCompletingTasks  2149 non-null   int64  \n",
            " 32  Forgetfulness              2149 non-null   int64  \n",
            " 33  Diagnosis                  2149 non-null   int64  \n",
            " 34  DoctorInCharge             2149 non-null   object \n",
            "dtypes: float64(12), int64(22), object(1)\n",
            "memory usage: 587.7+ KB\n",
            "None\n"
          ]
        }
      ]
    },
    {
      "cell_type": "code",
      "source": [
        "print(df.describe())   # Statistik ringkasan"
      ],
      "metadata": {
        "colab": {
          "base_uri": "https://localhost:8080/"
        },
        "id": "RjK3cqqQY3rn",
        "outputId": "ce0e27c2-e26b-46ae-fadc-384c356e5a2e"
      },
      "execution_count": 99,
      "outputs": [
        {
          "output_type": "stream",
          "name": "stdout",
          "text": [
            "         PatientID          Age       Gender    Ethnicity  EducationLevel  \\\n",
            "count  2149.000000  2149.000000  2149.000000  2149.000000     2149.000000   \n",
            "mean   5825.000000    74.908795     0.506282     0.697534        1.286645   \n",
            "std     620.507185     8.990221     0.500077     0.996128        0.904527   \n",
            "min    4751.000000    60.000000     0.000000     0.000000        0.000000   \n",
            "25%    5288.000000    67.000000     0.000000     0.000000        1.000000   \n",
            "50%    5825.000000    75.000000     1.000000     0.000000        1.000000   \n",
            "75%    6362.000000    83.000000     1.000000     1.000000        2.000000   \n",
            "max    6899.000000    90.000000     1.000000     3.000000        3.000000   \n",
            "\n",
            "               BMI      Smoking  AlcoholConsumption  PhysicalActivity  \\\n",
            "count  2149.000000  2149.000000         2149.000000       2149.000000   \n",
            "mean     27.655697     0.288506           10.039442          4.920202   \n",
            "std       7.217438     0.453173            5.757910          2.857191   \n",
            "min      15.008851     0.000000            0.002003          0.003616   \n",
            "25%      21.611408     0.000000            5.139810          2.570626   \n",
            "50%      27.823924     0.000000            9.934412          4.766424   \n",
            "75%      33.869778     1.000000           15.157931          7.427899   \n",
            "max      39.992767     1.000000           19.989293          9.987429   \n",
            "\n",
            "       DietQuality  ...  FunctionalAssessment  MemoryComplaints  \\\n",
            "count  2149.000000  ...           2149.000000       2149.000000   \n",
            "mean      4.993138  ...              5.080055          0.208004   \n",
            "std       2.909055  ...              2.892743          0.405974   \n",
            "min       0.009385  ...              0.000460          0.000000   \n",
            "25%       2.458455  ...              2.566281          0.000000   \n",
            "50%       5.076087  ...              5.094439          0.000000   \n",
            "75%       7.558625  ...              7.546981          0.000000   \n",
            "max       9.998346  ...              9.996467          1.000000   \n",
            "\n",
            "       BehavioralProblems          ADL    Confusion  Disorientation  \\\n",
            "count         2149.000000  2149.000000  2149.000000     2149.000000   \n",
            "mean             0.156817     4.982958     0.205212        0.158213   \n",
            "std              0.363713     2.949775     0.403950        0.365026   \n",
            "min              0.000000     0.001288     0.000000        0.000000   \n",
            "25%              0.000000     2.342836     0.000000        0.000000   \n",
            "50%              0.000000     5.038973     0.000000        0.000000   \n",
            "75%              0.000000     7.581490     0.000000        0.000000   \n",
            "max              1.000000     9.999747     1.000000        1.000000   \n",
            "\n",
            "       PersonalityChanges  DifficultyCompletingTasks  Forgetfulness  \\\n",
            "count         2149.000000                2149.000000    2149.000000   \n",
            "mean             0.150768                   0.158678       0.301536   \n",
            "std              0.357906                   0.365461       0.459032   \n",
            "min              0.000000                   0.000000       0.000000   \n",
            "25%              0.000000                   0.000000       0.000000   \n",
            "50%              0.000000                   0.000000       0.000000   \n",
            "75%              0.000000                   0.000000       1.000000   \n",
            "max              1.000000                   1.000000       1.000000   \n",
            "\n",
            "         Diagnosis  \n",
            "count  2149.000000  \n",
            "mean      0.353653  \n",
            "std       0.478214  \n",
            "min       0.000000  \n",
            "25%       0.000000  \n",
            "50%       0.000000  \n",
            "75%       1.000000  \n",
            "max       1.000000  \n",
            "\n",
            "[8 rows x 34 columns]\n"
          ]
        }
      ]
    },
    {
      "cell_type": "markdown",
      "source": [
        "# **Tahap 2: Preprocessing Dataset**"
      ],
      "metadata": {
        "id": "fA56dY9OY45N"
      }
    },
    {
      "cell_type": "code",
      "source": [
        "# Pilih fitur target (misalnya, kolom 'Diagnosis')\n",
        "target_column = 'Diagnosis'  # Ganti dengan nama kolom yang sesuai\n",
        "df[target_column] = df[target_column].map({'Alzheimer': 1, 'Healthy': 0})  # Ubah label ke 0/1\n",
        "\n",
        "# Hapus kolom yang tidak relevan\n",
        "df.drop(columns=['Patient_ID'], inplace=True, errors='ignore')\n",
        "df.drop(columns=['DoctorInCharge'], inplace=True, errors='ignore')\n",
        "\n",
        "# Konversi fitur BMI menjadi biner (BMI >= 25 -> 1)\n",
        "df['BMI'] = (df['BMI'] >= 25).astype(int)\n",
        "\n",
        "# AlcoholConsumption > 2 drinks/week -> 1\n",
        "df['AlcoholConsumption'] = (df['AlcoholConsumption'] > 2).astype(int)\n",
        "\n",
        "# PhysicalActivity >= 3 kali/minggu -> 1\n",
        "df['PhysicalActivity'] = (df['PhysicalActivity'] >= 3).astype(int)\n",
        "\n",
        "# DietQuality >= 7 -> 1 (bagus), else 0\n",
        "df['DietQuality'] = (df['DietQuality'] >= 7).astype(int)\n",
        "\n",
        "# FunctionalAssessment < 7 -> 1 (fungsi terganggu), else 0\n",
        "df['FunctionalAssessment'] = (df['FunctionalAssessment'] < 7).astype(int)\n",
        "\n",
        "# ADL < 6 -> 1 (butuh bantuan), else 0\n",
        "df['ADL'] = (df['ADL'] < 6).astype(int)\n",
        "\n",
        "# Binerisasi fitur numerik dengan threshold (contoh: Age >= 65)\n",
        "df['Age'] = (df['Age'] >= 65).astype(int)\n",
        "\n",
        "# Tampilkan dataset setelah preprocessing\n",
        "print(df.head())\n"
      ],
      "metadata": {
        "colab": {
          "base_uri": "https://localhost:8080/"
        },
        "id": "3eSrtCFpY4aP",
        "outputId": "a9b15bd4-99bd-40a1-a3e0-62ca553e1d02"
      },
      "execution_count": 100,
      "outputs": [
        {
          "output_type": "stream",
          "name": "stdout",
          "text": [
            "   PatientID  Age  Gender  Ethnicity  EducationLevel  BMI  Smoking  \\\n",
            "0       4751    1       0          0               2    0        0   \n",
            "1       4752    1       0          0               0    1        0   \n",
            "2       4753    1       0          3               1    0        0   \n",
            "3       4754    1       1          0               1    1        1   \n",
            "4       4755    1       0          0               0    0        0   \n",
            "\n",
            "   AlcoholConsumption  PhysicalActivity  DietQuality  ...  \\\n",
            "0                   1                 1            0  ...   \n",
            "1                   1                 1            0  ...   \n",
            "2                   1                 1            0  ...   \n",
            "3                   1                 1            1  ...   \n",
            "4                   1                 1            0  ...   \n",
            "\n",
            "   FunctionalAssessment  MemoryComplaints  BehavioralProblems  ADL  Confusion  \\\n",
            "0                     1                 0                   0    1          0   \n",
            "1                     0                 0                   0    1          0   \n",
            "2                     1                 0                   0    0          0   \n",
            "3                     0                 0                   1    0          0   \n",
            "4                     1                 0                   0    1          0   \n",
            "\n",
            "   Disorientation  PersonalityChanges  DifficultyCompletingTasks  \\\n",
            "0               0                   0                          1   \n",
            "1               0                   0                          0   \n",
            "2               1                   0                          1   \n",
            "3               0                   0                          0   \n",
            "4               0                   1                          1   \n",
            "\n",
            "   Forgetfulness  Diagnosis  \n",
            "0              0        NaN  \n",
            "1              1        NaN  \n",
            "2              0        NaN  \n",
            "3              0        NaN  \n",
            "4              0        NaN  \n",
            "\n",
            "[5 rows x 34 columns]\n"
          ]
        }
      ]
    },
    {
      "cell_type": "markdown",
      "source": [
        "# **Tahap 3: Pisahkan Data untuk Training dan Testing**"
      ],
      "metadata": {
        "id": "G74vn8xIZWa1"
      }
    },
    {
      "cell_type": "code",
      "source": [
        "# Pisahkan fitur (X) dan label (y)\n",
        "X = df.drop(columns=[target_column])\n",
        "y = df[target_column]\n",
        "\n",
        "# Split data menjadi training (80%) dan testing (20%)\n",
        "X_train, X_test, y_train, y_test = train_test_split(X, y, test_size=0.2, random_state=42)\n",
        "\n",
        "print(\"Training set size:\", X_train.shape)\n",
        "print(\"Testing set size:\", X_test.shape)\n"
      ],
      "metadata": {
        "colab": {
          "base_uri": "https://localhost:8080/"
        },
        "id": "EFfAp2LEZX0V",
        "outputId": "36d2fd08-5fba-4321-8e6b-7e2f1f5da925"
      },
      "execution_count": 101,
      "outputs": [
        {
          "output_type": "stream",
          "name": "stdout",
          "text": [
            "Training set size: (1719, 33)\n",
            "Testing set size: (430, 33)\n"
          ]
        }
      ]
    },
    {
      "cell_type": "markdown",
      "source": [
        "# **Tahap 4: Melatih Model Bernoulli Naïve Bayes**"
      ],
      "metadata": {
        "id": "VcF1hORgZert"
      }
    },
    {
      "cell_type": "code",
      "source": [
        "imputer = SimpleImputer(strategy='most_frequent')\n",
        "X_train = imputer.fit_transform(X_train)\n",
        "X_test = imputer.transform(X_test)\n",
        "\n",
        "\n",
        "from sklearn.impute import SimpleImputer\n",
        "imputer_y = SimpleImputer(strategy='most_frequent')\n",
        "\n",
        "\n",
        "if y_train.isnull().all():\n",
        "    y_train = np.zeros_like(y_train)\n",
        "else:\n",
        "    y_train = imputer_y.fit_transform(y_train.values.reshape(-1, 1))\n",
        "    y_train = y_train.ravel()\n",
        "\n",
        "\n",
        "# Inisialisasi model BernoulliNB\n",
        "model = BernoulliNB()\n",
        "\n",
        "# Latih model dengan data training\n",
        "model.fit(X_train, y_train)\n",
        "\n",
        "print(\"Model telah dilatih!\")"
      ],
      "metadata": {
        "colab": {
          "base_uri": "https://localhost:8080/"
        },
        "id": "srkZUTY5Zg7F",
        "outputId": "f0221aff-0ea7-4db0-f421-fe01eee152b6"
      },
      "execution_count": 102,
      "outputs": [
        {
          "output_type": "stream",
          "name": "stdout",
          "text": [
            "Model telah dilatih!\n"
          ]
        }
      ]
    },
    {
      "cell_type": "markdown",
      "source": [],
      "metadata": {
        "id": "z_44Ol_yfkAJ"
      }
    },
    {
      "cell_type": "markdown",
      "source": [
        "# **5. Evaluasi Model**"
      ],
      "metadata": {
        "id": "ngFdcMWphTuE"
      }
    },
    {
      "cell_type": "code",
      "source": [
        "imputer_y_test = SimpleImputer(strategy='most_frequent')\n",
        "# Check if y_test contains only NaN values\n",
        "if y_test.isnull().all():\n",
        "    # If all values are NaN, fill with a default value (e.g., 0) to avoid an empty array\n",
        "    y_test_imputed = np.zeros_like(y_test, dtype=int)  # Use int type to match y_pred\n",
        "else:\n",
        "    y_test_imputed = imputer_y_test.fit_transform(y_test.values.reshape(-1, 1))\n",
        "    y_test_imputed = y_test_imputed.ravel()\n",
        "\n",
        "\n",
        "# Continue with your code\n",
        "# Prediksi pada data testing\n",
        "y_pred = model.predict(X_test)\n",
        "\n",
        "# Calculate accuracy with the imputed y_test\n",
        "accuracy = accuracy_score(y_test_imputed, y_pred)\n",
        "print(f\"Akurasi Model: {accuracy:.2f}\")\n",
        "\n",
        "# Tampilkan laporan klasifikasi\n",
        "print(classification_report(y_test_imputed, y_pred))"
      ],
      "metadata": {
        "colab": {
          "base_uri": "https://localhost:8080/"
        },
        "id": "SbzggBOGhY7C",
        "outputId": "72b065b2-c764-4c15-bc4f-c30d7eccf391"
      },
      "execution_count": 103,
      "outputs": [
        {
          "output_type": "stream",
          "name": "stdout",
          "text": [
            "Akurasi Model: 1.00\n",
            "              precision    recall  f1-score   support\n",
            "\n",
            "           0       1.00      1.00      1.00       430\n",
            "\n",
            "    accuracy                           1.00       430\n",
            "   macro avg       1.00      1.00      1.00       430\n",
            "weighted avg       1.00      1.00      1.00       430\n",
            "\n"
          ]
        }
      ]
    }
  ]
}